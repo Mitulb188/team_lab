{
 "cells": [
  {
   "cell_type": "code",
   "execution_count": 2,
   "id": "33b9725f",
   "metadata": {},
   "outputs": [
    {
     "name": "stdout",
     "output_type": "stream",
     "text": [
      "Using device: cuda\n",
      "\n",
      "--- Starting Training: LSTM Cross-Attention Model ---\n"
     ]
    },
    {
     "name": "stderr",
     "output_type": "stream",
     "text": [
      "Epoch 1/10: 100%|██████████| 720/720 [00:43<00:00, 16.46it/s]\n"
     ]
    },
    {
     "name": "stdout",
     "output_type": "stream",
     "text": [
      "Epoch 1 | Validation EER: 6.36%\n",
      "  -> New best model saved with EER: 6.36%\n"
     ]
    },
    {
     "name": "stderr",
     "output_type": "stream",
     "text": [
      "Epoch 2/10: 100%|██████████| 720/720 [00:42<00:00, 17.01it/s]\n"
     ]
    },
    {
     "name": "stdout",
     "output_type": "stream",
     "text": [
      "Epoch 2 | Validation EER: 6.58%\n"
     ]
    },
    {
     "name": "stderr",
     "output_type": "stream",
     "text": [
      "Epoch 3/10: 100%|██████████| 720/720 [00:42<00:00, 17.02it/s]\n"
     ]
    },
    {
     "name": "stdout",
     "output_type": "stream",
     "text": [
      "Epoch 3 | Validation EER: 5.86%\n",
      "  -> New best model saved with EER: 5.86%\n"
     ]
    },
    {
     "name": "stderr",
     "output_type": "stream",
     "text": [
      "Epoch 4/10: 100%|██████████| 720/720 [00:43<00:00, 16.62it/s]\n"
     ]
    },
    {
     "name": "stdout",
     "output_type": "stream",
     "text": [
      "Epoch 4 | Validation EER: 5.18%\n",
      "  -> New best model saved with EER: 5.18%\n"
     ]
    },
    {
     "name": "stderr",
     "output_type": "stream",
     "text": [
      "Epoch 5/10: 100%|██████████| 720/720 [00:41<00:00, 17.43it/s]\n"
     ]
    },
    {
     "name": "stdout",
     "output_type": "stream",
     "text": [
      "Epoch 5 | Validation EER: 8.36%\n"
     ]
    },
    {
     "name": "stderr",
     "output_type": "stream",
     "text": [
      "Epoch 6/10: 100%|██████████| 720/720 [00:41<00:00, 17.33it/s]\n"
     ]
    },
    {
     "name": "stdout",
     "output_type": "stream",
     "text": [
      "Epoch 6 | Validation EER: 9.69%\n"
     ]
    },
    {
     "name": "stderr",
     "output_type": "stream",
     "text": [
      "Epoch 7/10: 100%|██████████| 720/720 [00:42<00:00, 17.02it/s]\n"
     ]
    },
    {
     "name": "stdout",
     "output_type": "stream",
     "text": [
      "Epoch 7 | Validation EER: 4.63%\n",
      "  -> New best model saved with EER: 4.63%\n"
     ]
    },
    {
     "name": "stderr",
     "output_type": "stream",
     "text": [
      "Epoch 8/10: 100%|██████████| 720/720 [00:43<00:00, 16.67it/s]\n"
     ]
    },
    {
     "name": "stdout",
     "output_type": "stream",
     "text": [
      "Epoch 8 | Validation EER: 5.42%\n"
     ]
    },
    {
     "name": "stderr",
     "output_type": "stream",
     "text": [
      "Epoch 9/10: 100%|██████████| 720/720 [00:42<00:00, 16.75it/s]\n"
     ]
    },
    {
     "name": "stdout",
     "output_type": "stream",
     "text": [
      "Epoch 9 | Validation EER: 4.63%\n",
      "  -> New best model saved with EER: 4.63%\n"
     ]
    },
    {
     "name": "stderr",
     "output_type": "stream",
     "text": [
      "Epoch 10/10: 100%|██████████| 720/720 [00:43<00:00, 16.71it/s]\n"
     ]
    },
    {
     "name": "stdout",
     "output_type": "stream",
     "text": [
      "Epoch 10 | Validation EER: 4.71%\n"
     ]
    }
   ],
   "source": [
    "import os\n",
    "import numpy as np\n",
    "import torch\n",
    "import torch.nn as nn\n",
    "from torch.utils.data import Dataset, DataLoader\n",
    "from sklearn.preprocessing import StandardScaler\n",
    "from sklearn.metrics import roc_curve\n",
    "from scipy.optimize import brentq\n",
    "from scipy.interpolate import interp1d\n",
    "from tqdm import tqdm\n",
    "import matplotlib.pyplot as plt\n",
    "\n",
    "# --- 1. CONFIGURATION ---\n",
    "\n",
    "# --- Paths ---\n",
    "TEAMMATE_DATA_PATH = '/mount/studenten/arbeitsdaten-studenten1/team-lab-phonetics/2025/student_directories/AuFa/'\n",
    "PREPROCESSED_DATA_DIR = os.path.join(TEAMMATE_DATA_PATH, \"processed_data_aligned_lld\")\n",
    "OUTPUT_DIR = os.path.join(TEAMMATE_DATA_PATH, \"lstm_cross_attention_model_output\")\n",
    "os.makedirs(OUTPUT_DIR, exist_ok=True)\n",
    "\n",
    "# --- Model & Training Parameters ---\n",
    "DEVICE = \"cuda\" if torch.cuda.is_available() else \"cpu\"\n",
    "BATCH_SIZE = 64 # Smaller batch size might be needed for more complex models\n",
    "EPOCHS = 10\n",
    "LEARNING_RATE = 1e-4\n",
    "CQCC_SHAPE = (128, 157)\n",
    "EGMAPS_LLD_SHAPE = (23, 157)\n",
    "EMBEDDING_DIM = 128 # Dimension for embeddings and attention\n",
    "\n",
    "# --- 2. DATASET CLASS ---\n",
    "\n",
    "class AudioFeatureDataset(Dataset):\n",
    "    \"\"\"Custom PyTorch Dataset for the fusion model.\"\"\"\n",
    "    def __init__(self, cqcc_data, egmaps_data, labels):\n",
    "        self.cqcc_data = torch.tensor(cqcc_data, dtype=torch.float32)\n",
    "        self.egmaps_data = torch.tensor(egmaps_data, dtype=torch.float32)\n",
    "        self.labels = torch.tensor(labels, dtype=torch.float32)\n",
    "\n",
    "    def __len__(self):\n",
    "        return len(self.labels)\n",
    "\n",
    "    def __getitem__(self, idx):\n",
    "        return self.cqcc_data[idx], self.egmaps_data[idx], self.labels[idx]\n",
    "\n",
    "# --- 3. LSTM CROSS-ATTENTION MODEL DEFINITION ---\n",
    "\n",
    "class LSTMCrossAttentionFusion(nn.Module):\n",
    "    \"\"\"\n",
    "    Fuses CQCC features (processed by a CNN) with eGeMAPS LLDs (processed by an LSTM)\n",
    "    using cross-modal attention.\n",
    "    \"\"\"\n",
    "    def __init__(self, cqcc_features, egmaps_features, time_steps, embedding_dim):\n",
    "        super(LSTMCrossAttentionFusion, self).__init__()\n",
    "        \n",
    "        # --- CQCC Branch (Key and Value) ---\n",
    "        # A simple 1D CNN to process CQCCs as a sequence\n",
    "        self.cqcc_cnn = nn.Sequential(\n",
    "            nn.Conv1d(cqcc_features, 64, kernel_size=3, padding=1),\n",
    "            nn.BatchNorm1d(64), nn.ReLU(),\n",
    "            nn.Conv1d(64, embedding_dim, kernel_size=3, padding=1),\n",
    "        )\n",
    "\n",
    "        # --- eGeMAPS LLD Branch (Query) ---\n",
    "        self.lstm = nn.LSTM(\n",
    "            input_size=egmaps_features,\n",
    "            hidden_size=embedding_dim,\n",
    "            num_layers=2,\n",
    "            batch_first=True,\n",
    "            bidirectional=True # Bidirectional LSTM is often more powerful\n",
    "        )\n",
    "        # The output of the bidirectional LSTM is 2 * embedding_dim\n",
    "        self.lstm_fc = nn.Linear(embedding_dim * 2, embedding_dim)\n",
    "        \n",
    "        # --- Cross-Attention Mechanism ---\n",
    "        self.cross_attention = nn.MultiheadAttention(\n",
    "            embed_dim=embedding_dim,\n",
    "            num_heads=4,\n",
    "            batch_first=True\n",
    "        )\n",
    "\n",
    "        # --- Final Classifier ---\n",
    "        self.classifier = nn.Sequential(\n",
    "            nn.Linear(embedding_dim, 64),\n",
    "            nn.BatchNorm1d(64), nn.ReLU(), nn.Dropout(0.5),\n",
    "            nn.Linear(64, 1)\n",
    "        )\n",
    "\n",
    "    def forward(self, cqcc_x, egmaps_x):\n",
    "        # Reshape for sequence processing: (batch, features, time) -> (batch, time, features)\n",
    "        cqcc_x_seq = cqcc_x.transpose(1, 2)\n",
    "        egmaps_x_seq = egmaps_x.transpose(1, 2)\n",
    "        \n",
    "        # 1. Get CQCC sequence from CNN branch\n",
    "        # Input to Conv1d is (batch, features, time)\n",
    "        cqcc_out_cnn = self.cqcc_cnn(cqcc_x).transpose(1, 2)\n",
    "\n",
    "        # 2. Get prosodic sequence from LSTM branch\n",
    "        lstm_out, _ = self.lstm(egmaps_x_seq)\n",
    "        prosody_query = torch.tanh(self.lstm_fc(lstm_out))\n",
    "        \n",
    "        # 3. Apply Cross-Attention\n",
    "        # Query: prosody_query, Key/Value: cqcc_out_cnn\n",
    "        attended_output, _ = self.cross_attention(\n",
    "            query=prosody_query,\n",
    "            key=cqcc_out_cnn,\n",
    "            value=cqcc_out_cnn\n",
    "        )\n",
    "        \n",
    "        # 4. Classify the attended output\n",
    "        # We can average the features over the time dimension before classifying\n",
    "        pooled_output = attended_output.mean(dim=1)\n",
    "        output = self.classifier(pooled_output)\n",
    "        \n",
    "        return torch.sigmoid(output)\n",
    "\n",
    "# --- (The main execution script remains the same as the previous one) ---\n",
    "# --- You just need to initialize this new model instead. ---\n",
    "\n",
    "# --- 4. MAIN EXECUTION SCRIPT ---\n",
    "if __name__ == '__main__':\n",
    "    print(f\"Using device: {DEVICE}\")\n",
    "\n",
    "    # Load Data (same as before)\n",
    "    try:\n",
    "        X_cqcc_train = np.load(os.path.join(PREPROCESSED_DATA_DIR, \"cqcc_features_train.npy\"))\n",
    "        X_lld_train = np.load(os.path.join(PREPROCESSED_DATA_DIR, \"egmaps_lld_features_train.npy\"))\n",
    "        y_train = np.load(os.path.join(PREPROCESSED_DATA_DIR, \"labels_train.npy\"))\n",
    "        X_cqcc_val = np.load(os.path.join(PREPROCESSED_DATA_DIR, \"cqcc_features_dev.npy\"))\n",
    "        X_lld_val = np.load(os.path.join(PREPROCESSED_DATA_DIR, \"egmaps_lld_features_dev.npy\"))\n",
    "        y_val = np.load(os.path.join(PREPROCESSED_DATA_DIR, \"labels_dev.npy\"))\n",
    "    except FileNotFoundError as e:\n",
    "        print(f\"❌ Error loading data files: {e}\")\n",
    "        exit()\n",
    "\n",
    "    # Scale Features (same as before)\n",
    "    scaler_lld = StandardScaler().fit(X_lld_train.reshape(-1, EGMAPS_LLD_SHAPE[0]))\n",
    "    X_lld_train_scaled = scaler_lld.transform(X_lld_train.reshape(-1, EGMAPS_LLD_SHAPE[0])).reshape(X_lld_train.shape)\n",
    "    X_lld_val_scaled = scaler_lld.transform(X_lld_val.reshape(-1, EGMAPS_LLD_SHAPE[0])).reshape(X_lld_val.shape)\n",
    "    \n",
    "    scaler_cqcc = StandardScaler().fit(X_cqcc_train.reshape(-1, CQCC_SHAPE[0]))\n",
    "    X_cqcc_train_scaled = scaler_cqcc.transform(X_cqcc_train.reshape(-1, CQCC_SHAPE[0])).reshape(X_cqcc_train.shape)\n",
    "    X_cqcc_val_scaled = scaler_cqcc.transform(X_cqcc_val.reshape(-1, CQCC_SHAPE[0])).reshape(X_cqcc_val.shape)\n",
    "    \n",
    "    # Create Datasets and DataLoaders (same as before)\n",
    "    train_dataset = AudioFeatureDataset(X_cqcc_train_scaled, X_lld_train_scaled, y_train)\n",
    "    val_dataset = AudioFeatureDataset(X_cqcc_val_scaled, X_lld_val_scaled, y_val)\n",
    "    train_loader = DataLoader(train_dataset, batch_size=BATCH_SIZE, shuffle=True)\n",
    "    val_loader = DataLoader(val_dataset, batch_size=BATCH_SIZE, shuffle=False)\n",
    "\n",
    "    # --- Initialize the NEW Model ---\n",
    "    model = LSTMCrossAttentionFusion(\n",
    "        cqcc_features=CQCC_SHAPE[0],\n",
    "        egmaps_features=EGMAPS_LLD_SHAPE[0],\n",
    "        time_steps=CQCC_SHAPE[1],\n",
    "        embedding_dim=EMBEDDING_DIM\n",
    "    ).to(DEVICE)\n",
    "    \n",
    "    criterion = nn.BCELoss()\n",
    "    optimizer = torch.optim.Adam(model.parameters(), lr=LEARNING_RATE)\n",
    "    \n",
    "    # --- Training Loop (same as before) ---\n",
    "    best_val_eer = float('inf')\n",
    "    print(f\"\\n--- Starting Training: LSTM Cross-Attention Model ---\")\n",
    "    for epoch in range(EPOCHS):\n",
    "        model.train()\n",
    "        for cqcc_batch, lld_batch, labels_batch in tqdm(train_loader, desc=f\"Epoch {epoch+1}/{EPOCHS}\"):\n",
    "            cqcc_batch, lld_batch, labels_batch = cqcc_batch.to(DEVICE), lld_batch.to(DEVICE), labels_batch.to(DEVICE)\n",
    "            optimizer.zero_grad()\n",
    "            outputs = model(cqcc_batch, lld_batch)\n",
    "            loss = criterion(outputs, labels_batch.unsqueeze(1))\n",
    "            loss.backward()\n",
    "            optimizer.step()\n",
    "\n",
    "        model.eval()\n",
    "        all_labels, all_scores = [], []\n",
    "        with torch.no_grad():\n",
    "            for cqcc_batch, lld_batch, labels_batch in val_loader:\n",
    "                cqcc_batch, lld_batch = cqcc_batch.to(DEVICE), lld_batch.to(DEVICE)\n",
    "                outputs = model(cqcc_batch, lld_batch)\n",
    "                all_scores.extend(outputs.cpu().numpy())\n",
    "                all_labels.extend(labels_batch.cpu().numpy())\n",
    "        \n",
    "        all_labels, all_scores = np.array(all_labels), np.array(all_scores).flatten()\n",
    "        try:\n",
    "            eer = brentq(lambda x: 1. - x - interp1d(*roc_curve(all_labels, all_scores, pos_label=1)[:2])(x), 0., 1.) * 100\n",
    "        except Exception: eer = -1.0\n",
    "\n",
    "        print(f\"Epoch {epoch+1} | Validation EER: {eer:.2f}%\")\n",
    "        \n",
    "        if eer > 0 and eer < best_val_eer:\n",
    "            best_val_eer = eer\n",
    "            torch.save(model.state_dict(), os.path.join(OUTPUT_DIR, \"best_lstm_cross_attention_model.pth\"))\n",
    "            print(f\"  -> New best model saved with EER: {best_val_eer:.2f}%\")"
   ]
  }
 ],
 "metadata": {
  "kernelspec": {
   "display_name": "venv310",
   "language": "python",
   "name": "python3"
  },
  "language_info": {
   "codemirror_mode": {
    "name": "ipython",
    "version": 3
   },
   "file_extension": ".py",
   "mimetype": "text/x-python",
   "name": "python",
   "nbconvert_exporter": "python",
   "pygments_lexer": "ipython3",
   "version": "3.10.18"
  }
 },
 "nbformat": 4,
 "nbformat_minor": 5
}
