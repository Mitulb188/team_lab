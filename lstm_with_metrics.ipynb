{
 "cells": [
  {
   "cell_type": "code",
   "execution_count": 1,
   "id": "74d858f7",
   "metadata": {},
   "outputs": [
    {
     "name": "stdout",
     "output_type": "stream",
     "text": [
      "Using device: cuda\n",
      "\n",
      "--- Starting Training ---\n"
     ]
    },
    {
     "name": "stderr",
     "output_type": "stream",
     "text": [
      "Epoch 1/10 [Train]: 100%|██████████| 720/720 [00:38<00:00, 18.85it/s]\n"
     ]
    },
    {
     "name": "stdout",
     "output_type": "stream",
     "text": [
      "\n",
      "--- Epoch 1/10 Results ---\n",
      "Accuracy: 0.9653 | F1-Score (Bonafide): 0.8154 | EER: 6.30%\n",
      "Confusion Matrix:\n",
      "         Predicted Spoof | Predicted Bonafide\n",
      "True Spoof | 22081           | 215               \n",
      "True Bonafide| 646             | 1902              \n",
      "------------------------------------------\n",
      "  -> New best model saved with EER: 6.30%\n"
     ]
    },
    {
     "name": "stderr",
     "output_type": "stream",
     "text": [
      "Epoch 2/10 [Train]: 100%|██████████| 720/720 [00:42<00:00, 17.07it/s]\n"
     ]
    },
    {
     "name": "stdout",
     "output_type": "stream",
     "text": [
      "\n",
      "--- Epoch 2/10 Results ---\n",
      "Accuracy: 0.9712 | F1-Score (Bonafide): 0.8425 | EER: 5.53%\n",
      "Confusion Matrix:\n",
      "         Predicted Spoof | Predicted Bonafide\n",
      "True Spoof | 22217           | 79                \n",
      "True Bonafide| 636             | 1912              \n",
      "------------------------------------------\n",
      "  -> New best model saved with EER: 5.53%\n"
     ]
    },
    {
     "name": "stderr",
     "output_type": "stream",
     "text": [
      "Epoch 3/10 [Train]: 100%|██████████| 720/720 [00:41<00:00, 17.40it/s]\n"
     ]
    },
    {
     "name": "stdout",
     "output_type": "stream",
     "text": [
      "\n",
      "--- Epoch 3/10 Results ---\n",
      "Accuracy: 0.9681 | F1-Score (Bonafide): 0.8186 | EER: 6.44%\n",
      "Confusion Matrix:\n",
      "         Predicted Spoof | Predicted Bonafide\n",
      "True Spoof | 22265           | 31                \n",
      "True Bonafide| 761             | 1787              \n",
      "------------------------------------------\n"
     ]
    },
    {
     "name": "stderr",
     "output_type": "stream",
     "text": [
      "Epoch 4/10 [Train]: 100%|██████████| 720/720 [00:41<00:00, 17.30it/s]\n"
     ]
    },
    {
     "name": "stdout",
     "output_type": "stream",
     "text": [
      "\n",
      "--- Epoch 4/10 Results ---\n",
      "Accuracy: 0.9787 | F1-Score (Bonafide): 0.8888 | EER: 5.85%\n",
      "Confusion Matrix:\n",
      "         Predicted Spoof | Predicted Bonafide\n",
      "True Spoof | 22196           | 100               \n",
      "True Bonafide| 430             | 2118              \n",
      "------------------------------------------\n"
     ]
    },
    {
     "name": "stderr",
     "output_type": "stream",
     "text": [
      "Epoch 5/10 [Train]: 100%|██████████| 720/720 [00:42<00:00, 16.85it/s]\n"
     ]
    },
    {
     "name": "stdout",
     "output_type": "stream",
     "text": [
      "\n",
      "--- Epoch 5/10 Results ---\n",
      "Accuracy: 0.9611 | F1-Score (Bonafide): 0.7668 | EER: 8.13%\n",
      "Confusion Matrix:\n",
      "         Predicted Spoof | Predicted Bonafide\n",
      "True Spoof | 22290           | 6                 \n",
      "True Bonafide| 960             | 1588              \n",
      "------------------------------------------\n"
     ]
    },
    {
     "name": "stderr",
     "output_type": "stream",
     "text": [
      "Epoch 6/10 [Train]: 100%|██████████| 720/720 [00:40<00:00, 17.76it/s]\n"
     ]
    },
    {
     "name": "stdout",
     "output_type": "stream",
     "text": [
      "\n",
      "--- Epoch 6/10 Results ---\n",
      "Accuracy: 0.9705 | F1-Score (Bonafide): 0.8346 | EER: 9.57%\n",
      "Confusion Matrix:\n",
      "         Predicted Spoof | Predicted Bonafide\n",
      "True Spoof | 22261           | 35                \n",
      "True Bonafide| 698             | 1850              \n",
      "------------------------------------------\n"
     ]
    },
    {
     "name": "stderr",
     "output_type": "stream",
     "text": [
      "Epoch 7/10 [Train]: 100%|██████████| 720/720 [00:43<00:00, 16.71it/s]\n"
     ]
    },
    {
     "name": "stdout",
     "output_type": "stream",
     "text": [
      "\n",
      "--- Epoch 7/10 Results ---\n",
      "Accuracy: 0.9746 | F1-Score (Bonafide): 0.8610 | EER: 5.30%\n",
      "Confusion Matrix:\n",
      "         Predicted Spoof | Predicted Bonafide\n",
      "True Spoof | 22254           | 42                \n",
      "True Bonafide| 590             | 1958              \n",
      "------------------------------------------\n",
      "  -> New best model saved with EER: 5.30%\n"
     ]
    },
    {
     "name": "stderr",
     "output_type": "stream",
     "text": [
      "Epoch 8/10 [Train]: 100%|██████████| 720/720 [00:42<00:00, 16.93it/s]\n"
     ]
    },
    {
     "name": "stdout",
     "output_type": "stream",
     "text": [
      "\n",
      "--- Epoch 8/10 Results ---\n",
      "Accuracy: 0.9681 | F1-Score (Bonafide): 0.8171 | EER: 5.77%\n",
      "Confusion Matrix:\n",
      "         Predicted Spoof | Predicted Bonafide\n",
      "True Spoof | 22280           | 16                \n",
      "True Bonafide| 777             | 1771              \n",
      "------------------------------------------\n"
     ]
    },
    {
     "name": "stderr",
     "output_type": "stream",
     "text": [
      "Epoch 9/10 [Train]: 100%|██████████| 720/720 [00:41<00:00, 17.16it/s]\n"
     ]
    },
    {
     "name": "stdout",
     "output_type": "stream",
     "text": [
      "\n",
      "--- Epoch 9/10 Results ---\n",
      "Accuracy: 0.9730 | F1-Score (Bonafide): 0.8498 | EER: 5.53%\n",
      "Confusion Matrix:\n",
      "         Predicted Spoof | Predicted Bonafide\n",
      "True Spoof | 22275           | 21                \n",
      "True Bonafide| 650             | 1898              \n",
      "------------------------------------------\n"
     ]
    },
    {
     "name": "stderr",
     "output_type": "stream",
     "text": [
      "Epoch 10/10 [Train]: 100%|██████████| 720/720 [00:41<00:00, 17.15it/s]\n"
     ]
    },
    {
     "name": "stdout",
     "output_type": "stream",
     "text": [
      "\n",
      "--- Epoch 10/10 Results ---\n",
      "Accuracy: 0.9684 | F1-Score (Bonafide): 0.8197 | EER: 6.08%\n",
      "Confusion Matrix:\n",
      "         Predicted Spoof | Predicted Bonafide\n",
      "True Spoof | 22278           | 18                \n",
      "True Bonafide| 766             | 1782              \n",
      "------------------------------------------\n"
     ]
    }
   ],
   "source": [
    "import os\n",
    "import numpy as np\n",
    "import torch\n",
    "import torch.nn as nn\n",
    "from torch.utils.data import Dataset, DataLoader\n",
    "from sklearn.preprocessing import StandardScaler\n",
    "from sklearn.metrics import roc_curve, f1_score, confusion_matrix, accuracy_score\n",
    "from scipy.optimize import brentq\n",
    "from scipy.interpolate import interp1d\n",
    "from tqdm import tqdm\n",
    "import matplotlib.pyplot as plt\n",
    "\n",
    "# --- 1. CONFIGURATION ---\n",
    "\n",
    "# --- Paths ---\n",
    "TEAMMATE_DATA_PATH = '/mount/studenten/arbeitsdaten-studenten1/team-lab-phonetics/2025/student_directories/AuFa/'\n",
    "PREPROCESSED_DATA_DIR = os.path.join(TEAMMATE_DATA_PATH, \"processed_data_aligned_lld\")\n",
    "OUTPUT_DIR = os.path.join(TEAMMATE_DATA_PATH, \"lstm_cross_attention_model_output\")\n",
    "os.makedirs(OUTPUT_DIR, exist_ok=True)\n",
    "\n",
    "# --- Model & Training Parameters ---\n",
    "DEVICE = \"cuda\" if torch.cuda.is_available() else \"cpu\"\n",
    "BATCH_SIZE = 64\n",
    "EPOCHS = 10 # Reduced for a quick test, you can set it back to 50\n",
    "LEARNING_RATE = 1e-4\n",
    "CQCC_SHAPE = (128, 157)\n",
    "EGMAPS_LLD_SHAPE = (23, 157)\n",
    "EMBEDDING_DIM = 128\n",
    "\n",
    "# --- 2. DATASET CLASS & MODEL DEFINITION (Unchanged) ---\n",
    "\n",
    "class AudioFeatureDataset(Dataset):\n",
    "    def __init__(self, cqcc_data, egmaps_data, labels):\n",
    "        self.cqcc_data = torch.tensor(cqcc_data, dtype=torch.float32)\n",
    "        self.egmaps_data = torch.tensor(egmaps_data, dtype=torch.float32)\n",
    "        self.labels = torch.tensor(labels, dtype=torch.float32)\n",
    "    def __len__(self):\n",
    "        return len(self.labels)\n",
    "    def __getitem__(self, idx):\n",
    "        return self.cqcc_data[idx], self.egmaps_data[idx], self.labels[idx]\n",
    "\n",
    "class LSTMCrossAttentionFusion(nn.Module):\n",
    "    def __init__(self, cqcc_features, egmaps_features, time_steps, embedding_dim):\n",
    "        super(LSTMCrossAttentionFusion, self).__init__()\n",
    "        self.cqcc_cnn = nn.Sequential(\n",
    "            nn.Conv1d(cqcc_features, 64, kernel_size=3, padding=1),\n",
    "            nn.BatchNorm1d(64), nn.ReLU(),\n",
    "            nn.Conv1d(64, embedding_dim, kernel_size=3, padding=1),\n",
    "        )\n",
    "        self.lstm = nn.LSTM(\n",
    "            input_size=egmaps_features, hidden_size=embedding_dim,\n",
    "            num_layers=2, batch_first=True, bidirectional=True\n",
    "        )\n",
    "        self.lstm_fc = nn.Linear(embedding_dim * 2, embedding_dim)\n",
    "        self.cross_attention = nn.MultiheadAttention(\n",
    "            embed_dim=embedding_dim, num_heads=4, batch_first=True\n",
    "        )\n",
    "        self.classifier = nn.Sequential(\n",
    "            nn.Linear(embedding_dim, 64), nn.BatchNorm1d(64),\n",
    "            nn.ReLU(), nn.Dropout(0.5), nn.Linear(64, 1)\n",
    "        )\n",
    "    def forward(self, cqcc_x, egmaps_x):\n",
    "        cqcc_x_seq = cqcc_x.transpose(1, 2)\n",
    "        egmaps_x_seq = egmaps_x.transpose(1, 2)\n",
    "        cqcc_out_cnn = self.cqcc_cnn(cqcc_x).transpose(1, 2)\n",
    "        lstm_out, _ = self.lstm(egmaps_x_seq)\n",
    "        prosody_query = torch.tanh(self.lstm_fc(lstm_out))\n",
    "        attended_output, _ = self.cross_attention(\n",
    "            query=prosody_query, key=cqcc_out_cnn, value=cqcc_out_cnn\n",
    "        )\n",
    "        pooled_output = attended_output.mean(dim=1)\n",
    "        output = self.classifier(pooled_output)\n",
    "        return torch.sigmoid(output)\n",
    "\n",
    "# --- 3. MAIN EXECUTION SCRIPT ---\n",
    "\n",
    "if __name__ == '__main__':\n",
    "    print(f\"Using device: {DEVICE}\")\n",
    "\n",
    "    # Load Data\n",
    "    try:\n",
    "        X_cqcc_train = np.load(os.path.join(PREPROCESSED_DATA_DIR, \"cqcc_features_train.npy\"))\n",
    "        X_lld_train = np.load(os.path.join(PREPROCESSED_DATA_DIR, \"egmaps_lld_features_train.npy\"))\n",
    "        y_train = np.load(os.path.join(PREPROCESSED_DATA_DIR, \"labels_train.npy\"))\n",
    "        X_cqcc_val = np.load(os.path.join(PREPROCESSED_DATA_DIR, \"cqcc_features_dev.npy\"))\n",
    "        X_lld_val = np.load(os.path.join(PREPROCESSED_DATA_DIR, \"egmaps_lld_features_dev.npy\"))\n",
    "        y_val = np.load(os.path.join(PREPROCESSED_DATA_DIR, \"labels_dev.npy\"))\n",
    "    except FileNotFoundError as e:\n",
    "        print(f\"❌ Error loading data files: {e}\")\n",
    "        exit()\n",
    "\n",
    "    # Scale Features\n",
    "    scaler_lld = StandardScaler().fit(X_lld_train.reshape(-1, EGMAPS_LLD_SHAPE[0]))\n",
    "    X_lld_train_scaled = scaler_lld.transform(X_lld_train.reshape(-1, EGMAPS_LLD_SHAPE[0])).reshape(X_lld_train.shape)\n",
    "    X_lld_val_scaled = scaler_lld.transform(X_lld_val.reshape(-1, EGMAPS_LLD_SHAPE[0])).reshape(X_lld_val.shape)\n",
    "    scaler_cqcc = StandardScaler().fit(X_cqcc_train.reshape(-1, CQCC_SHAPE[0]))\n",
    "    X_cqcc_train_scaled = scaler_cqcc.transform(X_cqcc_train.reshape(-1, CQCC_SHAPE[0])).reshape(X_cqcc_train.shape)\n",
    "    X_cqcc_val_scaled = scaler_cqcc.transform(X_cqcc_val.reshape(-1, CQCC_SHAPE[0])).reshape(X_cqcc_val.shape)\n",
    "    \n",
    "    # Create Datasets and DataLoaders\n",
    "    train_dataset = AudioFeatureDataset(X_cqcc_train_scaled, X_lld_train_scaled, y_train)\n",
    "    val_dataset = AudioFeatureDataset(X_cqcc_val_scaled, X_lld_val_scaled, y_val)\n",
    "    train_loader = DataLoader(train_dataset, batch_size=BATCH_SIZE, shuffle=True)\n",
    "    val_loader = DataLoader(val_dataset, batch_size=BATCH_SIZE, shuffle=False)\n",
    "\n",
    "    # Initialize Model, Loss, and Optimizer\n",
    "    model = LSTMCrossAttentionFusion(\n",
    "        cqcc_features=CQCC_SHAPE[0], egmaps_features=EGMAPS_LLD_SHAPE[0],\n",
    "        time_steps=CQCC_SHAPE[1], embedding_dim=EMBEDDING_DIM\n",
    "    ).to(DEVICE)\n",
    "    criterion = nn.BCELoss()\n",
    "    optimizer = torch.optim.Adam(model.parameters(), lr=LEARNING_RATE)\n",
    "    \n",
    "    # --- Training Loop with Enhanced Evaluation ---\n",
    "    best_val_eer = float('inf')\n",
    "    print(f\"\\n--- Starting Training ---\")\n",
    "    for epoch in range(EPOCHS):\n",
    "        model.train()\n",
    "        # Training pass (no changes here)\n",
    "        for cqcc_batch, lld_batch, labels_batch in tqdm(train_loader, desc=f\"Epoch {epoch+1}/{EPOCHS} [Train]\"):\n",
    "            cqcc_batch, lld_batch, labels_batch = cqcc_batch.to(DEVICE), lld_batch.to(DEVICE), labels_batch.to(DEVICE)\n",
    "            optimizer.zero_grad()\n",
    "            outputs = model(cqcc_batch, lld_batch)\n",
    "            loss = criterion(outputs, labels_batch.unsqueeze(1))\n",
    "            loss.backward()\n",
    "            optimizer.step()\n",
    "\n",
    "        # --- Validation pass with more metrics ---\n",
    "        model.eval()\n",
    "        all_labels, all_scores = [], []\n",
    "        with torch.no_grad():\n",
    "            for cqcc_batch, lld_batch, labels_batch in val_loader:\n",
    "                cqcc_batch, lld_batch = cqcc_batch.to(DEVICE), lld_batch.to(DEVICE)\n",
    "                outputs = model(cqcc_batch, lld_batch)\n",
    "                all_scores.extend(outputs.cpu().numpy())\n",
    "                all_labels.extend(labels_batch.cpu().numpy())\n",
    "        \n",
    "        all_labels = np.array(all_labels)\n",
    "        all_scores = np.array(all_scores).flatten()\n",
    "        \n",
    "        # --- NEW: Calculate more metrics ---\n",
    "        all_preds = (all_scores > 0.5).astype(int)\n",
    "        val_accuracy = accuracy_score(all_labels, all_preds)\n",
    "        val_f1 = f1_score(all_labels, all_preds, pos_label=1) # F1 for the 'bonafide' class\n",
    "        cm = confusion_matrix(all_labels, all_preds)\n",
    "        \n",
    "        try:\n",
    "            eer = brentq(lambda x: 1. - x - interp1d(*roc_curve(all_labels, all_scores, pos_label=1)[:2])(x), 0., 1.) * 100\n",
    "        except Exception: \n",
    "            eer = -1.0\n",
    "\n",
    "        # --- NEW: Print all metrics ---\n",
    "        print(f\"\\n--- Epoch {epoch+1}/{EPOCHS} Results ---\")\n",
    "        print(f\"Accuracy: {val_accuracy:.4f} | F1-Score (Bonafide): {val_f1:.4f} | EER: {eer:.2f}%\")\n",
    "        print(\"Confusion Matrix:\")\n",
    "        print(\"         Predicted Spoof | Predicted Bonafide\")\n",
    "        print(f\"True Spoof | {cm[0][0]:<15} | {cm[0][1]:<18}\")\n",
    "        print(f\"True Bonafide| {cm[1][0]:<15} | {cm[1][1]:<18}\")\n",
    "        print(\"------------------------------------------\")\n",
    "\n",
    "        if eer > 0 and eer < best_val_eer:\n",
    "            best_val_eer = eer\n",
    "            torch.save(model.state_dict(), os.path.join(OUTPUT_DIR, \"best_lstm_cross_attention_model.pth\"))\n",
    "            print(f\"  -> New best model saved with EER: {best_val_eer:.2f}%\")"
   ]
  }
 ],
 "metadata": {
  "kernelspec": {
   "display_name": "venv310",
   "language": "python",
   "name": "python3"
  },
  "language_info": {
   "codemirror_mode": {
    "name": "ipython",
    "version": 3
   },
   "file_extension": ".py",
   "mimetype": "text/x-python",
   "name": "python",
   "nbconvert_exporter": "python",
   "pygments_lexer": "ipython3",
   "version": "3.10.18"
  }
 },
 "nbformat": 4,
 "nbformat_minor": 5
}
