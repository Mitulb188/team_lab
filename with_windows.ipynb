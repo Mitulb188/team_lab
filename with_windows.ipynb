{
 "cells": [
  {
   "cell_type": "code",
   "execution_count": 1,
   "id": "97790946",
   "metadata": {},
   "outputs": [
    {
     "name": "stdout",
     "output_type": "stream",
     "text": [
      "Using device: cuda\n",
      "\n",
      "--- Loading Preprocessed Data ---\n",
      "\n",
      "--- Starting Training for Cross-Attention Model ---\n"
     ]
    },
    {
     "name": "stderr",
     "output_type": "stream",
     "text": [
      "Epoch 1/10: 100%|██████████| 360/360 [00:18<00:00, 19.86it/s]\n"
     ]
    },
    {
     "name": "stdout",
     "output_type": "stream",
     "text": [
      "Epoch 1 | Train Loss: 0.2166 | Val Loss: 0.1552 | Val EER: 7.16%\n",
      "  -> New best model saved with EER: 7.16%\n"
     ]
    },
    {
     "name": "stderr",
     "output_type": "stream",
     "text": [
      "Epoch 2/10: 100%|██████████| 360/360 [00:18<00:00, 19.78it/s]\n"
     ]
    },
    {
     "name": "stdout",
     "output_type": "stream",
     "text": [
      "Epoch 2 | Train Loss: 0.0676 | Val Loss: 0.1292 | Val EER: 5.44%\n",
      "  -> New best model saved with EER: 5.44%\n"
     ]
    },
    {
     "name": "stderr",
     "output_type": "stream",
     "text": [
      "Epoch 3/10: 100%|██████████| 360/360 [00:18<00:00, 19.71it/s]\n"
     ]
    },
    {
     "name": "stdout",
     "output_type": "stream",
     "text": [
      "Epoch 3 | Train Loss: 0.0337 | Val Loss: 0.1049 | Val EER: 6.36%\n"
     ]
    },
    {
     "name": "stderr",
     "output_type": "stream",
     "text": [
      "Epoch 4/10: 100%|██████████| 360/360 [00:18<00:00, 19.62it/s]\n"
     ]
    },
    {
     "name": "stdout",
     "output_type": "stream",
     "text": [
      "Epoch 4 | Train Loss: 0.0194 | Val Loss: 0.0818 | Val EER: 5.85%\n"
     ]
    },
    {
     "name": "stderr",
     "output_type": "stream",
     "text": [
      "Epoch 5/10: 100%|██████████| 360/360 [00:18<00:00, 19.79it/s]\n"
     ]
    },
    {
     "name": "stdout",
     "output_type": "stream",
     "text": [
      "Epoch 5 | Train Loss: 0.0126 | Val Loss: 0.0800 | Val EER: 6.01%\n"
     ]
    },
    {
     "name": "stderr",
     "output_type": "stream",
     "text": [
      "Epoch 6/10: 100%|██████████| 360/360 [00:18<00:00, 19.20it/s]\n"
     ]
    },
    {
     "name": "stdout",
     "output_type": "stream",
     "text": [
      "Epoch 6 | Train Loss: 0.0087 | Val Loss: 0.0998 | Val EER: 5.73%\n"
     ]
    },
    {
     "name": "stderr",
     "output_type": "stream",
     "text": [
      "Epoch 7/10: 100%|██████████| 360/360 [00:18<00:00, 19.27it/s]\n"
     ]
    },
    {
     "name": "stdout",
     "output_type": "stream",
     "text": [
      "Epoch 7 | Train Loss: 0.0063 | Val Loss: 0.1250 | Val EER: 6.87%\n"
     ]
    },
    {
     "name": "stderr",
     "output_type": "stream",
     "text": [
      "Epoch 8/10: 100%|██████████| 360/360 [00:18<00:00, 19.03it/s]\n"
     ]
    },
    {
     "name": "stdout",
     "output_type": "stream",
     "text": [
      "Epoch 8 | Train Loss: 0.0048 | Val Loss: 0.1134 | Val EER: 7.30%\n"
     ]
    },
    {
     "name": "stderr",
     "output_type": "stream",
     "text": [
      "Epoch 9/10: 100%|██████████| 360/360 [00:19<00:00, 18.86it/s]\n"
     ]
    },
    {
     "name": "stdout",
     "output_type": "stream",
     "text": [
      "Epoch 9 | Train Loss: 0.0036 | Val Loss: 0.1278 | Val EER: 6.48%\n"
     ]
    },
    {
     "name": "stderr",
     "output_type": "stream",
     "text": [
      "Epoch 10/10: 100%|██████████| 360/360 [00:18<00:00, 19.09it/s]\n"
     ]
    },
    {
     "name": "stdout",
     "output_type": "stream",
     "text": [
      "Epoch 10 | Train Loss: 0.0029 | Val Loss: 0.0989 | Val EER: 6.61%\n",
      "\n",
      "--- Training Complete ---\n"
     ]
    }
   ],
   "source": [
    "import os\n",
    "import numpy as np\n",
    "import torch\n",
    "import torch.nn as nn\n",
    "from torch.utils.data import Dataset, DataLoader\n",
    "from sklearn.preprocessing import StandardScaler\n",
    "from sklearn.metrics import roc_curve\n",
    "from scipy.optimize import brentq\n",
    "from scipy.interpolate import interp1d\n",
    "from tqdm import tqdm\n",
    "import matplotlib.pyplot as plt\n",
    "\n",
    "\n",
    "# --- 1. CONFIGURATION ---\n",
    "\n",
    "\n",
    "# --- Paths ---\n",
    "TEAMMATE_DATA_PATH = '/mount/studenten/arbeitsdaten-studenten1/team-lab-phonetics/2025/student_directories/AuFa/'\n",
    "PREPROCESSED_DATA_DIR = os.path.join(TEAMMATE_DATA_PATH, \"processed_data_aligned_lld\")\n",
    "OUTPUT_DIR = os.path.join(TEAMMATE_DATA_PATH, \"cross_attention_model_output\")\n",
    "os.makedirs(OUTPUT_DIR, exist_ok=True)\n",
    "\n",
    "\n",
    "# --- Model & Training Parameters ---\n",
    "DEVICE = \"cuda\" if torch.cuda.is_available() else \"cpu\"\n",
    "BATCH_SIZE = 128\n",
    "EPOCHS = 10\n",
    "LEARNING_RATE = 1e-4\n",
    "CQCC_SHAPE = (128, 157)\n",
    "EGMAPS_LLD_SHAPE = (23, 157)\n",
    "EMBEDDING_DIM = 64 # The dimension of the feature embeddings\n",
    "\n",
    "\n",
    "# --- 2. DATASET CLASS ---\n",
    "\n",
    "\n",
    "class AudioFeatureDataset(Dataset):\n",
    "    \"\"\"Custom PyTorch Dataset for the fusion model.\"\"\"\n",
    "    def __init__(self, cqcc_data, egmaps_data, labels):\n",
    "        self.cqcc_data = torch.tensor(cqcc_data, dtype=torch.float32)\n",
    "        self.egmaps_data = torch.tensor(egmaps_data, dtype=torch.float32)\n",
    "        self.labels = torch.tensor(labels, dtype=torch.float32)\n",
    "\n",
    "\n",
    "    def __len__(self):\n",
    "        return len(self.labels)\n",
    "\n",
    "\n",
    "    def __getitem__(self, idx):\n",
    "        return self.cqcc_data[idx], self.egmaps_data[idx], self.labels[idx]\n",
    "\n",
    "\n",
    "# --- 3. CROSS-ATTENTION MODEL DEFINITION ---\n",
    "\n",
    "\n",
    "class CrossAttentionFusionCNN(nn.Module):\n",
    "    \"\"\"Fusion model using Cross-Modal Attention.\"\"\"\n",
    "    def __init__(self, cqcc_shape, egmaps_shape, embedding_dim):\n",
    "        super(CrossAttentionFusionCNN, self).__init__()\n",
    "       \n",
    "        # --- CQCC Branch (Processes spectral features) ---\n",
    "        self.cqcc_branch = nn.Sequential(\n",
    "            nn.Conv2d(in_channels=1, out_channels=16, kernel_size=(3, 3), padding=1),\n",
    "            nn.BatchNorm2d(16), nn.ReLU(), nn.MaxPool2d((2, 2)),\n",
    "            nn.Conv2d(in_channels=16, out_channels=32, kernel_size=(3, 3), padding=1),\n",
    "            nn.BatchNorm2d(32), nn.ReLU(), nn.MaxPool2d((2, 2)),\n",
    "            nn.Flatten(),\n",
    "        )\n",
    "        with torch.no_grad():\n",
    "            self.cqcc_flat_size = self.cqcc_branch(torch.zeros(1, 1, *cqcc_shape)).numel()\n",
    "        self.cqcc_fc = nn.Linear(self.cqcc_flat_size, embedding_dim)\n",
    "\n",
    "\n",
    "        # --- eGeMAPS LLD Branch (Processes prosodic features over time) ---\n",
    "        self.egmaps_branch = nn.Sequential(\n",
    "            nn.Conv1d(in_channels=egmaps_shape[0], out_channels=16, kernel_size=3, padding=1),\n",
    "            nn.BatchNorm1d(16), nn.ReLU(), nn.MaxPool1d(2),\n",
    "            nn.Conv1d(in_channels=16, out_channels=32, kernel_size=3, padding=1),\n",
    "            nn.BatchNorm1d(32), nn.ReLU(), nn.MaxPool1d(2),\n",
    "            nn.Flatten(),\n",
    "        )\n",
    "        with torch.no_grad():\n",
    "            self.egmaps_flat_size = self.egmaps_branch(torch.zeros(1, *egmaps_shape)).numel()\n",
    "        self.egmaps_fc = nn.Linear(self.egmaps_flat_size, embedding_dim)\n",
    "       \n",
    "        # --- Cross-Attention Mechanism ---\n",
    "        self.cross_attention = nn.MultiheadAttention(embed_dim=embedding_dim, num_heads=4, batch_first=True)\n",
    "\n",
    "\n",
    "        # --- Final Classifier ---\n",
    "        self.classifier = nn.Sequential(\n",
    "            nn.Linear(embedding_dim, 64),\n",
    "            nn.BatchNorm1d(64), nn.ReLU(), nn.Dropout(0.5),\n",
    "            nn.Linear(64, 1)\n",
    "        )\n",
    "\n",
    "\n",
    "    def forward(self, cqcc_x, egmaps_x):\n",
    "        # Get embeddings from both branches\n",
    "        cqcc_embedding = self.cqcc_fc(self.cqcc_branch(cqcc_x.unsqueeze(1)))\n",
    "       \n",
    "        # --- FIX: The LLD data is already in the correct (batch, features, time) format. ---\n",
    "        # --- The transpose operation was incorrect and has been removed. ---\n",
    "        egmaps_embedding = self.egmaps_fc(self.egmaps_branch(egmaps_x))\n",
    "       \n",
    "        # Apply Cross-Attention\n",
    "        cqcc_seq = cqcc_embedding.unsqueeze(1)\n",
    "        egmaps_seq = egmaps_embedding.unsqueeze(1)\n",
    "       \n",
    "        attended_output, _ = self.cross_attention(query=egmaps_seq, key=cqcc_seq, value=cqcc_seq)\n",
    "       \n",
    "        # Classify the attended output\n",
    "        output = self.classifier(attended_output.squeeze(1))\n",
    "       \n",
    "        return torch.sigmoid(output)\n",
    "\n",
    "\n",
    "def plot_training_history(history, save_path):\n",
    "    # This function is for plotting and saving the training graph\n",
    "    fig, ax1 = plt.subplots(figsize=(10, 7))\n",
    "    ax1.set_xlabel('Epochs')\n",
    "    ax1.set_ylabel('Loss', color='tab:red')\n",
    "    ax1.plot(history['train_loss'], color='tab:red', linestyle='--', label='Train Loss')\n",
    "    ax1.plot(history['val_loss'], color='tab:red', linestyle='-', label='Val Loss')\n",
    "    ax1.tick_params(axis='y', labelcolor='tab:red')\n",
    "    ax1.legend(loc='upper left')\n",
    "    ax2 = ax1.twinx()\n",
    "    ax2.set_ylabel('EER (%)', color='tab:blue')\n",
    "    ax2.plot(history['eer'], color='tab:blue', linestyle='-', label='Val EER (%)')\n",
    "    ax2.tick_params(axis='y', labelcolor='tab:blue')\n",
    "    ax2.legend(loc='upper right')\n",
    "    plt.title('Training and Validation Metrics')\n",
    "    plt.savefig(save_path)\n",
    "    plt.close()\n",
    "\n",
    "\n",
    "# --- 4. MAIN EXECUTION SCRIPT ---\n",
    "if __name__ == '__main__':\n",
    "    print(f\"Using device: {DEVICE}\")\n",
    "\n",
    "\n",
    "    # Load Data\n",
    "    try:\n",
    "        print(\"\\n--- Loading Preprocessed Data ---\")\n",
    "        X_cqcc_train = np.load(os.path.join(PREPROCESSED_DATA_DIR, \"cqcc_features_train.npy\"))\n",
    "        X_lld_train = np.load(os.path.join(PREPROCESSED_DATA_DIR, \"egmaps_lld_features_train.npy\"))\n",
    "        y_train = np.load(os.path.join(PREPROCESSED_DATA_DIR, \"labels_train.npy\"))\n",
    "\n",
    "\n",
    "        # --- FIX: Changed filenames to consistently use '_dev' for the validation set ---\n",
    "        X_cqcc_val = np.load(os.path.join(PREPROCESSED_DATA_DIR, \"cqcc_features_dev.npy\"))\n",
    "        X_lld_val = np.load(os.path.join(PREPROCESSED_DATA_DIR, \"egmaps_lld_features_dev.npy\"))\n",
    "        y_val = np.load(os.path.join(PREPROCESSED_DATA_DIR, \"labels_dev.npy\"))\n",
    "    except FileNotFoundError as e:\n",
    "        print(f\"❌ Error loading data files: {e}\\nPlease run the feature extraction script first.\")\n",
    "        exit()\n",
    "\n",
    "\n",
    "    # Scale Features\n",
    "    scaler_lld = StandardScaler().fit(X_lld_train.reshape(X_lld_train.shape[0], -1))\n",
    "    X_lld_train_scaled = scaler_lld.transform(X_lld_train.reshape(X_lld_train.shape[0], -1)).reshape(X_lld_train.shape)\n",
    "    X_lld_val_scaled = scaler_lld.transform(X_lld_val.reshape(X_lld_val.shape[0], -1)).reshape(X_lld_val.shape)\n",
    "\n",
    "\n",
    "    scaler_cqcc = StandardScaler().fit(X_cqcc_train.reshape(X_cqcc_train.shape[0], -1))\n",
    "    X_cqcc_train_scaled = scaler_cqcc.transform(X_cqcc_train.reshape(X_cqcc_train.shape[0], -1)).reshape(X_cqcc_train.shape)\n",
    "    X_cqcc_val_scaled = scaler_cqcc.transform(X_cqcc_val.reshape(X_cqcc_val.shape[0], -1)).reshape(X_cqcc_val.shape)\n",
    "\n",
    "\n",
    "    # Create Datasets and DataLoaders\n",
    "    train_dataset = AudioFeatureDataset(X_cqcc_train_scaled, X_lld_train_scaled, y_train)\n",
    "    val_dataset = AudioFeatureDataset(X_cqcc_val_scaled, X_lld_val_scaled, y_val)\n",
    "    train_loader = DataLoader(train_dataset, batch_size=BATCH_SIZE, shuffle=True)\n",
    "    val_loader = DataLoader(val_dataset, batch_size=BATCH_SIZE, shuffle=False)\n",
    "\n",
    "\n",
    "    # Initialize Model, Loss, and Optimizer\n",
    "    model = CrossAttentionFusionCNN(\n",
    "        cqcc_shape=CQCC_SHAPE,\n",
    "        egmaps_shape=EGMAPS_LLD_SHAPE,\n",
    "        embedding_dim=EMBEDDING_DIM\n",
    "    ).to(DEVICE)\n",
    "    criterion = nn.BCELoss()\n",
    "    optimizer = torch.optim.Adam(model.parameters(), lr=LEARNING_RATE)\n",
    "   \n",
    "    # Training Loop\n",
    "    best_val_eer = float('inf')\n",
    "    history = {'train_loss': [], 'val_loss': [], 'eer': []}\n",
    "    print(f\"\\n--- Starting Training for Cross-Attention Model ---\")\n",
    "    for epoch in range(EPOCHS):\n",
    "        model.train()\n",
    "        train_loss = 0.0\n",
    "        for cqcc_batch, lld_batch, labels_batch in tqdm(train_loader, desc=f\"Epoch {epoch+1}/{EPOCHS}\"):\n",
    "    # Also move labels_batch to the correct device\n",
    "            cqcc_batch, lld_batch, labels_batch = cqcc_batch.to(DEVICE), lld_batch.to(DEVICE), labels_batch.to(DEVICE)\n",
    "            optimizer.zero_grad()\n",
    "            outputs = model(cqcc_batch, lld_batch)\n",
    "            loss = criterion(outputs, labels_batch.unsqueeze(1))\n",
    "            loss.backward()\n",
    "            optimizer.step()\n",
    "            train_loss += loss.item()\n",
    "\n",
    "\n",
    "        # Validation Loop\n",
    "        model.eval()\n",
    "        val_loss, all_labels, all_scores = 0.0, [], []\n",
    "        with torch.no_grad():\n",
    "            for cqcc_batch, lld_batch, labels_batch in val_loader:\n",
    "        # Also move labels_batch to the correct device\n",
    "                cqcc_batch, lld_batch, labels_batch = cqcc_batch.to(DEVICE), lld_batch.to(DEVICE), labels_batch.to(DEVICE)\n",
    "        # ...\n",
    "                outputs = model(cqcc_batch, lld_batch)\n",
    "                val_loss += criterion(outputs, labels_batch.unsqueeze(1)).item()\n",
    "                all_scores.extend(outputs.cpu().numpy())\n",
    "                all_labels.extend(labels_batch.cpu().numpy())\n",
    "       \n",
    "        avg_train_loss = train_loss / len(train_loader)\n",
    "        avg_val_loss = val_loss / len(val_loader)\n",
    "        history['train_loss'].append(avg_train_loss)\n",
    "        history['val_loss'].append(avg_val_loss)\n",
    "       \n",
    "        all_labels, all_scores = np.array(all_labels), np.array(all_scores).flatten()\n",
    "        try:\n",
    "            eer = brentq(lambda x: 1. - x - interp1d(*roc_curve(all_labels, all_scores, pos_label=1)[:2])(x), 0., 1.) * 100\n",
    "        except Exception:\n",
    "            eer = -1.0 # Handle case where EER cannot be calculated\n",
    "        history['eer'].append(eer)\n",
    "\n",
    "\n",
    "        print(f\"Epoch {epoch+1} | Train Loss: {avg_train_loss:.4f} | Val Loss: {avg_val_loss:.4f} | Val EER: {eer:.2f}%\")\n",
    "       \n",
    "        if eer > 0 and eer < best_val_eer:\n",
    "            best_val_eer = eer\n",
    "            torch.save(model.state_dict(), os.path.join(OUTPUT_DIR, \"best_cross_attention_model.pth\"))\n",
    "            print(f\"  -> New best model saved with EER: {best_val_eer:.2f}%\")\n",
    "\n",
    "\n",
    "    print(\"\\n--- Training Complete ---\")\n",
    "    plot_training_history(history, os.path.join(OUTPUT_DIR, \"training_metrics.png\"))"
   ]
  }
 ],
 "metadata": {
  "kernelspec": {
   "display_name": "venv310",
   "language": "python",
   "name": "python3"
  },
  "language_info": {
   "codemirror_mode": {
    "name": "ipython",
    "version": 3
   },
   "file_extension": ".py",
   "mimetype": "text/x-python",
   "name": "python",
   "nbconvert_exporter": "python",
   "pygments_lexer": "ipython3",
   "version": "3.10.18"
  }
 },
 "nbformat": 4,
 "nbformat_minor": 5
}
